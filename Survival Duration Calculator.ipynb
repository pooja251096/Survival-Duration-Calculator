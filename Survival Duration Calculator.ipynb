{
 "cells": [
  {
   "cell_type": "markdown",
   "id": "ce98b147",
   "metadata": {},
   "source": [
    "# Survival Duration Calculator"
   ]
  },
  {
   "cell_type": "code",
   "execution_count": 1,
   "id": "9da63b7c",
   "metadata": {},
   "outputs": [
    {
     "name": "stdout",
     "output_type": "stream",
     "text": [
      "What's your age? 27\n",
      "Please choose time unit: Months, Weeks, Days, Hours, Minutes, Seconds. \n",
      "Note: You can write the first letter or the full name of the time unit. M\n",
      "You lived for 324 Months\n"
     ]
    }
   ],
   "source": [
    "class SurvivalDurationCalculator:\n",
    "    def __init__(self, age):\n",
    "        self.age = age\n",
    "\n",
    "    def calculate_duration(self, time_unit):\n",
    "        if time_unit.lower() in ['months', 'm']:\n",
    "            duration = self.age * 12\n",
    "            unit = 'Months'\n",
    "        elif time_unit.lower() in ['weeks', 'w']:\n",
    "            duration = self.age * 52\n",
    "            unit = 'Weeks'\n",
    "        elif time_unit.lower() in ['days', 'd']:\n",
    "            duration = self.age * 365\n",
    "            unit = 'Days'\n",
    "        elif time_unit.lower() in ['hours', 'h']:\n",
    "            duration = self.age * 365 * 24\n",
    "            unit = 'Hours'\n",
    "        elif time_unit.lower() in ['minutes', 'min']:\n",
    "            duration = self.age * 365 * 24 * 60\n",
    "            unit = 'Minutes'\n",
    "        elif time_unit.lower() in ['seconds', 's']:\n",
    "            duration = self.age * 365 * 24 * 60 * 60\n",
    "            unit = 'Seconds'\n",
    "        else:\n",
    "            return \"Invalid time unit provided. Please choose from: Months, Weeks, Days, Hours, Minutes, Seconds.\"\n",
    "\n",
    "        return f\"You lived for {duration} {unit}\"\n",
    "\n",
    "# Main part of the script\n",
    "if __name__ == \"__main__\":\n",
    "    try:\n",
    "        age = int(input(\"What's your age? \"))\n",
    "        time_unit = input(\"Please choose time unit: Months, Weeks, Days, Hours, Minutes, Seconds. \\nNote: You can write the first letter or the full name of the time unit. \").strip()\n",
    "\n",
    "        calculator = SurvivalDurationCalculator(age)\n",
    "        result = calculator.calculate_duration(time_unit)\n",
    "        print(result)\n",
    "\n",
    "    except ValueError:\n",
    "        print(\"Invalid input. Age should be a positive integer.\")\n",
    "    except Exception as e:\n",
    "        print(f\"An error occurred: {e}\")"
   ]
  },
  {
   "cell_type": "code",
   "execution_count": null,
   "id": "2e3140e8",
   "metadata": {},
   "outputs": [],
   "source": []
  }
 ],
 "metadata": {
  "kernelspec": {
   "display_name": "Python 3 (ipykernel)",
   "language": "python",
   "name": "python3"
  },
  "language_info": {
   "codemirror_mode": {
    "name": "ipython",
    "version": 3
   },
   "file_extension": ".py",
   "mimetype": "text/x-python",
   "name": "python",
   "nbconvert_exporter": "python",
   "pygments_lexer": "ipython3",
   "version": "3.11.5"
  }
 },
 "nbformat": 4,
 "nbformat_minor": 5
}
